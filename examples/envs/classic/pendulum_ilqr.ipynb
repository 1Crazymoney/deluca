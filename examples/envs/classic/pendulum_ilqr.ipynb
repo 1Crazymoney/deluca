{
 "cells": [
  {
   "cell_type": "code",
   "execution_count": 1,
   "metadata": {},
   "outputs": [],
   "source": [
    "%load_ext autoreload\n",
    "%autoreload 2"
   ]
  },
  {
   "cell_type": "code",
   "execution_count": 2,
   "metadata": {},
   "outputs": [
    {
     "name": "stderr",
     "output_type": "stream",
     "text": [
      "W1211 06:43:19.077041 4466011584 xla_bridge.py:131] No GPU/TPU found, falling back to CPU. (Set TF_CPP_MIN_LOG_LEVEL=0 and rerun for more info.)\n"
     ]
    }
   ],
   "source": [
    "import jax.numpy as jnp\n",
    "import matplotlib.pyplot as plt\n",
    "import jax\n",
    "from jax import lax\n",
    "from deluca.envs import Pendulum\n",
    "from deluca.agents import ILQR"
   ]
  },
  {
   "cell_type": "code",
   "execution_count": 3,
   "metadata": {
    "pycharm": {
     "name": "#%%\n"
    }
   },
   "outputs": [],
   "source": [
    "def loop(context, x):\n",
    "    env, agent = context\n",
    "    control = agent(env.state)\n",
    "    _, reward, _, _ = env.step(control)\n",
    "    return (env, agent), reward"
   ]
  },
  {
   "cell_type": "code",
   "execution_count": 4,
   "metadata": {
    "scrolled": true
   },
   "outputs": [
    {
     "name": "stdout",
     "output_type": "stream",
     "text": [
      "iLQR : t = 2, c = 295.044986\n",
      "iLQR : t = 3, c = 295.044986\n",
      "iLQR : t = 4, c = 239.000680\n",
      "iLQR : t = 5, c = 239.000680\n",
      "iLQR : t = 6, c = 239.000680\n",
      "iLQR : t = 7, c = 239.000680\n",
      "iLQR : t = 8, c = 239.000680\n",
      "iLQR : t = 9, c = 239.000680\n",
      "iLQR : t = 10, c = 239.000680\n",
      "iLQR : t = 11, c = 239.000680\n",
      "iLQR : t = 12, c = 239.000680\n",
      "iLQR : t = 13, c = 239.000680\n",
      "iLQR : t = 14, c = 239.000680\n",
      "iLQR : t = 15, c = 239.000680\n",
      "iLQR : t = 16, c = 239.000680\n",
      "iLQR : t = 17, c = 139.889102\n",
      "iLQR : t = 18, c = 139.889102\n",
      "iLQR : t = 19, c = 139.889102\n",
      "iLQR : t = 20, c = 139.889102\n"
     ]
    }
   ],
   "source": [
    "# ILQR\n",
    "agent = ILQR()\n",
    "agent.train(Pendulum(), 20)"
   ]
  },
  {
   "cell_type": "code",
   "execution_count": 17,
   "metadata": {},
   "outputs": [
    {
     "name": "stdout",
     "output_type": "stream",
     "text": [
      "[-1.97009089  0.77338597]\n",
      "0\n",
      "reward_forloop = 238.03104450512856\n"
     ]
    }
   ],
   "source": [
    " # for loop version\n",
    "T = 50\n",
    "env = Pendulum()\n",
    "print(env.reset())\n",
    "reward = 0\n",
    "for i in range(T):\n",
    "    (env, agent), r = loop((env, agent), 0)\n",
    "    reward += r\n",
    "reward_forloop = reward\n",
    "print('reward_forloop = ' + str(reward_forloop))"
   ]
  },
  {
   "cell_type": "code",
   "execution_count": 16,
   "metadata": {},
   "outputs": [
    {
     "name": "stdout",
     "output_type": "stream",
     "text": [
      "[-1.97009089  0.77338597]\n",
      "reward_scan sum = 238.0310445051286\n"
     ]
    }
   ],
   "source": [
    "# scan version\n",
    "env = Pendulum()\n",
    "print(env.reset())\n",
    "agent.reset()\n",
    "xs = jnp.array(jnp.arange(T))\n",
    "_,reward_scan = lax.scan(loop, (env, agent), xs)\n",
    "# correctness test\n",
    "print('reward_scan sum = ' + str(jnp.sum(reward_scan)))"
   ]
  },
  {
   "cell_type": "code",
   "execution_count": null,
   "metadata": {},
   "outputs": [],
   "source": []
  }
 ],
 "metadata": {
  "kernelspec": {
   "display_name": "Python 3",
   "language": "python",
   "name": "python3"
  },
  "language_info": {
   "codemirror_mode": {
    "name": "ipython",
    "version": 3
   },
   "file_extension": ".py",
   "mimetype": "text/x-python",
   "name": "python",
   "nbconvert_exporter": "python",
   "pygments_lexer": "ipython3",
   "version": "3.7.5"
  }
 },
 "nbformat": 4,
 "nbformat_minor": 1
}
