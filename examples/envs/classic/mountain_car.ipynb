{
 "cells": [
  {
   "cell_type": "code",
   "execution_count": 2,
   "metadata": {},
   "outputs": [],
   "source": [
    "%load_ext autoreload\n",
    "%autoreload 2"
   ]
  },
  {
   "cell_type": "code",
   "execution_count": 3,
   "metadata": {},
   "outputs": [
    {
     "name": "stderr",
     "output_type": "stream",
     "text": [
      "W1211 06:30:42.848357 4630330816 xla_bridge.py:131] No GPU/TPU found, falling back to CPU. (Set TF_CPP_MIN_LOG_LEVEL=0 and rerun for more info.)\n"
     ]
    }
   ],
   "source": [
    "import jax.numpy as jnp\n",
    "import numpy as np\n",
    "import matplotlib.pyplot as plt\n",
    "import jax\n",
    "from jax import lax\n",
    "from deluca.envs import MountainCar\n",
    "from deluca.agents import ILQR\n"
   ]
  },
  {
   "cell_type": "code",
   "execution_count": 4,
   "metadata": {},
   "outputs": [
    {
     "name": "stdout",
     "output_type": "stream",
     "text": [
      "iLQR : t = 2, c = 0.050000\n",
      "iLQR : t = 3, c = 0.002205\n",
      "iLQR : t = 4, c = 0.000242\n",
      "iLQR : t = 5, c = 0.000052\n",
      "iLQR : t = 6, c = 0.000019\n",
      "iLQR : t = 7, c = 0.000012\n",
      "iLQR : t = 8, c = 0.000010\n",
      "iLQR : t = 9, c = 0.000010\n",
      "iLQR : t = 10, c = 0.000009\n",
      "iLQR : t = 11, c = 0.000009\n",
      "iLQR : t = 12, c = 0.000008\n"
     ]
    }
   ],
   "source": [
    "agent = ILQR()\n",
    "agent.train(MountainCar(), 10)"
   ]
  },
  {
   "cell_type": "code",
   "execution_count": 5,
   "metadata": {
    "pycharm": {
     "name": "#%%\n"
    }
   },
   "outputs": [],
   "source": [
    "def loop(context, x):\n",
    "    env, agent = context\n",
    "    control = agent(env.state)\n",
    "    _, reward, _, _ = env.step(control)\n",
    "    return (env, agent), reward"
   ]
  },
  {
   "cell_type": "code",
   "execution_count": 14,
   "metadata": {},
   "outputs": [
    {
     "name": "stdout",
     "output_type": "stream",
     "text": [
      "[-0.09652638  0.        ]\n",
      "agent.t = 0\n",
      "reward_forloop = 1.683697951614514e-05\n"
     ]
    }
   ],
   "source": [
    " # for loop version\n",
    "T = 100\n",
    "env = MountainCar()\n",
    "print(env.reset())\n",
    "print('agent.t = ' + str(agent.t))\n",
    "reward = 0\n",
    "for i in range(T):\n",
    "    (env, agent), r = loop((env, agent), 0)\n",
    "    reward += r\n",
    "reward_forloop = reward\n",
    "print('reward_forloop = ' + str(reward_forloop))"
   ]
  },
  {
   "cell_type": "code",
   "execution_count": 13,
   "metadata": {},
   "outputs": [
    {
     "name": "stdout",
     "output_type": "stream",
     "text": [
      "[-0.09652638  0.        ]\n",
      "reward_scan sum = 1.6836979516145185e-05\n"
     ]
    }
   ],
   "source": [
    "# scan version\n",
    "T = 100\n",
    "env = MountainCar()\n",
    "print(env.reset())\n",
    "agent.reset()\n",
    "xs = jnp.array(jnp.arange(T))\n",
    "_,reward_scan = lax.scan(loop, (env, agent), xs)\n",
    "# correctness test\n",
    "print('reward_scan sum = ' + str(jnp.sum(reward_scan)))"
   ]
  }
 ],
 "metadata": {
  "kernelspec": {
   "display_name": "Python 3",
   "language": "python",
   "name": "python3"
  },
  "language_info": {
   "codemirror_mode": {
    "name": "ipython",
    "version": 3
   },
   "file_extension": ".py",
   "mimetype": "text/x-python",
   "name": "python",
   "nbconvert_exporter": "python",
   "pygments_lexer": "ipython3",
   "version": "3.8.0"
  }
 },
 "nbformat": 4,
 "nbformat_minor": 1
}
