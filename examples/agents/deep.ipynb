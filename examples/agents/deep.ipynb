{
 "cells": [
  {
   "cell_type": "code",
   "execution_count": null,
   "metadata": {},
   "outputs": [],
   "source": [
    "%load_ext autoreload\n",
    "%autoreload 2"
   ]
  },
  {
   "cell_type": "code",
   "execution_count": null,
   "metadata": {},
   "outputs": [],
   "source": [
    "import jax.numpy as jnp\n",
    "import matplotlib.pyplot as plt\n",
    "import jax\n",
    "from jax import lax\n",
    "from deluca.envs import CartPole\n",
    "from deluca.agents import Deep"
   ]
  },
  {
   "cell_type": "code",
   "execution_count": null,
   "metadata": {
    "pycharm": {
     "name": "#%%\n"
    }
   },
   "outputs": [],
   "source": [
    "def loop(context, x):\n",
    "    env, agent = context\n",
    "    control = agent(env.state)\n",
    "    _, reward, _, _ = env.step(control)\n",
    "    # agent.feed(reward)\n",
    "    # agent.update()\n",
    "    return (env, agent), reward"
   ]
  },
  {
   "cell_type": "code",
   "execution_count": null,
   "metadata": {},
   "outputs": [],
   "source": [
    "# Deep\n",
    "env = CartPole()\n",
    "agent = Deep(\n",
    "             env_state_size = 4,\n",
    "             action_space = jnp.array([0,1]),\n",
    "             learning_rate = 0.1,\n",
    "             gamma = 0.99,\n",
    "             max_episode_length = 500,\n",
    "             seed = 0\n",
    "            )\n"
   ]
  },
  {
   "cell_type": "code",
   "execution_count": null,
   "metadata": {},
   "outputs": [],
   "source": [
    " # for loop version\n",
    "T = 100\n",
    "xs = jnp.array(jnp.arange(T))\n",
    "print(env.reset())\n",
    "reward = 0\n",
    "for i in range(T):\n",
    "    (env, agent), r = loop((env, agent), 0)\n",
    "    reward += r\n",
    "reward_forloop = reward\n",
    "print('reward_forloop = ' + str(reward_forloop))\n",
    "\n",
    "\n",
    "# scan version\n",
    "env = CartPole()\n",
    "agent = Deep(\n",
    "             env_state_size = 4,\n",
    "             action_space = jnp.array([0,1]),\n",
    "             learning_rate = 0.1,\n",
    "             gamma = 0.99,\n",
    "             max_episode_length = 500,\n",
    "             seed = 0\n",
    "            )\n",
    "print(env.reset())\n",
    "_,reward_scan = lax.scan(loop, (env, agent), xs)\n",
    "\n",
    "# correctness test\n",
    "print('reward_scan = ' + str(reward_scan))\n",
    "print('reward_scan sum = ' + str(jnp.sum(reward_scan)))"
   ]
  }
 ],
 "metadata": {
  "kernelspec": {
   "display_name": "Python 3",
   "language": "python",
   "name": "python3"
  },
  "language_info": {
   "codemirror_mode": {
    "name": "ipython",
    "version": 3
   },
   "file_extension": ".py",
   "mimetype": "text/x-python",
   "name": "python",
   "nbconvert_exporter": "python",
   "pygments_lexer": "ipython3",
   "version": "3.7.4"
  }
 },
 "nbformat": 4,
 "nbformat_minor": 1
}
