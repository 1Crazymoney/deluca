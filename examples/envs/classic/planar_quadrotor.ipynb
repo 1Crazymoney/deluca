{
 "cells": [
  {
   "cell_type": "code",
   "execution_count": 1,
   "metadata": {},
   "outputs": [],
   "source": [
    "%load_ext autoreload\n",
    "%autoreload 2"
   ]
  },
  {
   "cell_type": "code",
   "execution_count": 2,
   "metadata": {},
   "outputs": [
    {
     "name": "stderr",
     "output_type": "stream",
     "text": [
      "/home/alexjyu/miniconda3/envs/ealstm/lib/python3.7/site-packages/jax/lib/xla_bridge.py:123: UserWarning: No GPU/TPU found, falling back to CPU.\n",
      "  warnings.warn('No GPU/TPU found, falling back to CPU.')\n",
      "/home/alexjyu/miniconda3/envs/ealstm/lib/python3.7/site-packages/gym/logger.py:30: UserWarning: \u001b[33mWARN: Box bound precision lowered by casting to float32\u001b[0m\n",
      "  warnings.warn(colorize('%s: %s'%('WARN', msg % args), 'yellow'))\n"
     ]
    }
   ],
   "source": [
    "import jax.numpy as jnp\n",
    "import numpy as np\n",
    "import matplotlib.pyplot as plt\n",
    "import jax\n",
    "from jax import lax\n",
    "from deluca.envs import PlanarQuadrotor\n",
    "from deluca.agents import ILQR\n"
   ]
  },
  {
   "cell_type": "code",
   "execution_count": 3,
   "metadata": {},
   "outputs": [
    {
     "name": "stdout",
     "output_type": "stream",
     "text": [
      "initial cost:374122.12\n",
      "(iLQR): t = 0, r = 2, c = 3861.069580078125, alpha = 1.100000023841858\n",
      "(iLQR): t = 1, r = 3, c = 219.2563934326172, alpha = 1.2100000381469727\n",
      "(iLQR): t = 2, r = 4, c = 69.37631225585938, alpha = 1.3310000896453857\n",
      "(iLQR): t = 3, r = 5, c = 54.80947494506836, alpha = 1.4641001224517822\n",
      "(iLQR): t = 4, r = 6, c = 52.38077926635742, alpha = 1.6105101108551025\n",
      "(iLQR): t = 5, r = 7, c = 51.87367248535156, alpha = 1.7715611457824707\n",
      "(iLQR): t = 6, r = 9, c = 51.81843566894531, alpha = 1.7715610265731812\n",
      "(iLQR): t = 7, r = 12, c = 51.054931640625, alpha = 1.3309999704360962\n",
      "(iLQR): t = 8, r = 13, c = 51.01693344116211, alpha = 1.4641000032424927\n",
      "(iLQR): t = 9, r = 15, c = 50.95909118652344, alpha = 1.4640998840332031\n"
     ]
    },
    {
     "data": {
      "text/plain": [
       "(DeviceArray(50.95909, dtype=float32),\n",
       " ['(iLQR): t = 0, r = 2, c = 3861.069580078125, alpha = 1.100000023841858',\n",
       "  '(iLQR): t = 1, r = 3, c = 219.2563934326172, alpha = 1.2100000381469727',\n",
       "  '(iLQR): t = 2, r = 4, c = 69.37631225585938, alpha = 1.3310000896453857',\n",
       "  '(iLQR): t = 3, r = 5, c = 54.80947494506836, alpha = 1.4641001224517822',\n",
       "  '(iLQR): t = 4, r = 6, c = 52.38077926635742, alpha = 1.6105101108551025',\n",
       "  '(iLQR): t = 5, r = 7, c = 51.87367248535156, alpha = 1.7715611457824707',\n",
       "  '(iLQR): t = 6, r = 9, c = 51.81843566894531, alpha = 1.7715610265731812',\n",
       "  '(iLQR): t = 7, r = 12, c = 51.054931640625, alpha = 1.3309999704360962',\n",
       "  '(iLQR): t = 8, r = 13, c = 51.01693344116211, alpha = 1.4641000032424927',\n",
       "  '(iLQR): t = 9, r = 15, c = 50.95909118652344, alpha = 1.4640998840332031'])"
      ]
     },
     "execution_count": 3,
     "metadata": {},
     "output_type": "execute_result"
    }
   ],
   "source": [
    "agent = ILQR()\n",
    "agent.train(PlanarQuadrotor(wind=0), 10)"
   ]
  },
  {
   "cell_type": "code",
   "execution_count": 4,
   "metadata": {
    "pycharm": {
     "name": "#%%\n"
    }
   },
   "outputs": [],
   "source": [
    "def loop(context, x):\n",
    "    env, agent = context\n",
    "    control = agent(env.state)\n",
    "    _, reward, _, _ = env.step(control)\n",
    "    return (env, agent), reward"
   ]
  },
  {
   "cell_type": "code",
   "execution_count": 5,
   "metadata": {},
   "outputs": [
    {
     "name": "stdout",
     "output_type": "stream",
     "text": [
      "[1. 1. 0. 0. 0. 0.]\n",
      "reward_forloop = 50.95909\n"
     ]
    }
   ],
   "source": [
    " # for loop version\n",
    "T = 100\n",
    "env = PlanarQuadrotor(wind=0)\n",
    "print(env.reset())\n",
    "reward = 0\n",
    "for i in range(T):\n",
    "    (env, agent), r = loop((env, agent), 0)\n",
    "    reward += r\n",
    "reward_forloop = reward\n",
    "print('reward_forloop = ' + str(reward_forloop))"
   ]
  },
  {
   "cell_type": "code",
   "execution_count": 8,
   "metadata": {},
   "outputs": [
    {
     "name": "stdout",
     "output_type": "stream",
     "text": [
      "[1. 1. 0. 0. 0. 0.]\n",
      "reward_scan sum = 51.81845688524296\n"
     ]
    }
   ],
   "source": [
    "# scan version\n",
    "# env = PlanarQuadrotor(placebo=0)\n",
    "agent.reset()\n",
    "print(env.reset())\n",
    "xs = jnp.array(jnp.arange(T))\n",
    "_,reward_scan = lax.scan(loop, (env, agent), xs)\n",
    "\n",
    "# correctness test\n",
    "print('reward_scan sum = ' + str(jnp.sum(reward_scan)))"
   ]
  }
 ],
 "metadata": {
  "kernelspec": {
   "display_name": "Python 3",
   "language": "python",
   "name": "python3"
  },
  "language_info": {
   "codemirror_mode": {
    "name": "ipython",
    "version": 3
   },
   "file_extension": ".py",
   "mimetype": "text/x-python",
   "name": "python",
   "nbconvert_exporter": "python",
   "pygments_lexer": "ipython3",
   "version": "3.7.3"
  }
 },
 "nbformat": 4,
 "nbformat_minor": 4
}
