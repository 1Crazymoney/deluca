{
 "cells": [
  {
   "cell_type": "code",
   "execution_count": null,
   "metadata": {},
   "outputs": [],
   "source": [
    "'''\n",
    "# install required system dependencies\n",
    "!apt-get install -y xvfb x11-utils\n",
    "# install required python dependencies (might need to install additional gym extras depending)\n",
    "!pip install gym[box2d]==0.17.* pyvirtualdisplay==0.2.* PyOpenGL==3.1.* PyOpenGL-accelerate==3.1.*\n",
    "!pip install pyvirtualdisplay==0.2.*\n",
    "'''"
   ]
  },
  {
   "cell_type": "code",
   "execution_count": null,
   "metadata": {},
   "outputs": [],
   "source": [
    "''' Installing cuda without openGL on Debian 9 stretch. Basically Xvfb doesn't play nice with Nvidia's openGL installation, \n",
    "so you have to install it with --no-opengl-libs flags. First, just use the driver recommended at the start up screen of controlla-1-image \n",
    "with --no-opengl-libs flag added\n",
    "    a. Follow unbuntu 16.04 (https://developer.nvidia.com/cuda-10.0-download-archive target_os=Linux&target_arch=x86_64&target_distro=Ubuntu&target_version=1604&target_type=runfilelocal)\n",
    "        1. wget https://developer.nvidia.com/compute/cuda/10.0/Prod/local_installers/cuda_10.0.130_410.48_linux.run\n",
    "        2. sudo sh cuda_10.0.130_410.48_linux.run --no-opengl-libs\n",
    "    b. Adapt script from https://gist.github.com/8enmann/931ec2a9dc45fde871d2139a7d1f2d78 to remove old install\n",
    "        1. sudo apt-get --purge remove nvidia-*\n",
    "        2. sudo nvidia-uninstall\n",
    "    c. Please make sure that PATH contains /usr/local/cuda/bin and LD_LIBRARY_PATH contains /usr/local/cuda/lib64\n",
    "        1.   export PATH=$PATH:/usr/local/cuda-10.0/bin\n",
    "        2.   export LD_LIBRARY_PATH=$LD_LIBRARY_PATH:/usr/local/cuda-10.0/lib64\n",
    "    d. Extra things needed to be moved to the right dirs (https://docs.nvidia.com/deeplearning/cudnn/install-guide/index.html section 2.3 to get tar file for Nvidia toolkit)\n",
    "        1. sudo cp cuda/include/cudnn*.h /usr/local/cuda/include \n",
    "        2. sudo cp -P cuda/lib64/libcudnn* /usr/local/cuda/lib64 \n",
    "        3. sudo chmod a+r /usr/local/cuda/include/cudnn*.h /usr/local/cuda/lib64/libcudnn*\n",
    "'''"
   ]
  },
  {
   "cell_type": "code",
   "execution_count": 7,
   "metadata": {},
   "outputs": [],
   "source": [
    "import deluca\n",
    "import gym\n",
    "import gnwrapper\n",
    "import jax\n",
    "from deluca.envs import Reacher\n",
    "from deluca.agents import ILQR\n",
    "from deluca.agents._ilqr import rollout\n",
    "from pyvirtualdisplay import Display"
   ]
  },
  {
   "cell_type": "code",
   "execution_count": 3,
   "metadata": {},
   "outputs": [],
   "source": [
    "import matplotlib.pyplot as plt\n",
    "%matplotlib inline\n",
    "from IPython import display\n",
    "\n",
    "def show_state(env, step=0, info=\"\"):\n",
    "    plt.figure(3)\n",
    "    plt.clf()\n",
    "    plt.imshow(env.render(mode='rgb_array'))\n",
    "    # plt.title(\"%s | Step: %d %s\" % (env._spec.id,step, info))\n",
    "    plt.title(\"%s | Step: %d %s\" % (type(env).__name__,step, info))\n",
    "    plt.axis('off')\n",
    "\n",
    "    display.clear_output(wait=True)\n",
    "    display.display(plt.gcf())"
   ]
  },
  {
   "cell_type": "code",
   "execution_count": 4,
   "metadata": {},
   "outputs": [],
   "source": [
    "def loop(context, i):\n",
    "    env, agent = context\n",
    "    control = agent(env.state)\n",
    "    _, reward, _, _ = env.step(control)\n",
    "    show_state(env, step=i)\n",
    "    return (env, agent), reward"
   ]
  },
  {
   "cell_type": "code",
   "execution_count": 9,
   "metadata": {},
   "outputs": [
    {
     "name": "stdout",
     "output_type": "stream",
     "text": [
      "-------------- ilqr_sim ----------------\n",
      "initial cost:29.766178\n",
      "(iLQR): t = 0, r = 2, c = 11.271796226501465, alpha = 1.100000023841858\n",
      "(iLQR): t = 1, r = 3, c = 11.118474960327148, alpha = 1.2100000381469727\n",
      "(iLQR): t = 2, r = 4, c = 11.112727165222168, alpha = 1.3310000896453857\n",
      "(iLQR): t = 3, r = 6, c = 11.112680435180664, alpha = 1.3310000896453857\n",
      "(iLQR): t = 4, r = 7, c = 11.112521171569824, alpha = 1.4641001224517822\n",
      "----------- compute zero_cost -----------\n",
      "ZEROCOST:2413.7056\n",
      "-------------- ilqr_true ----------------\n",
      "initial cost:1055.0634\n",
      "(iLQR): t = 0, r = 2, c = 941.4541015625, alpha = 1.100000023841858\n",
      "(iLQR): t = 1, r = 3, c = 935.1439208984375, alpha = 1.2100000381469727\n",
      "(iLQR): t = 2, r = 4, c = 924.70703125, alpha = 1.3310000896453857\n",
      "(iLQR): t = 3, r = 5, c = 881.9180297851562, alpha = 1.4641001224517822\n",
      "(iLQR): t = 4, r = 9, c = 839.0318603515625, alpha = 0.683013379573822\n",
      "(iLQR): t = 5, r = 10, c = 820.6473388671875, alpha = 0.7513146996498108\n",
      "(iLQR): t = 6, r = 11, c = 811.3817749023438, alpha = 0.8264461755752563\n",
      "(iLQR): t = 7, r = 14, c = 791.3921508789062, alpha = 0.62092125415802\n",
      "(iLQR): t = 8, r = 15, c = 773.3284301757812, alpha = 0.683013379573822\n",
      "(iLQR): t = 9, r = 16, c = 761.0863037109375, alpha = 0.7513146996498108\n"
     ]
    },
    {
     "data": {
      "text/plain": [
       "(DeviceArray(761.0863, dtype=float32),\n",
       " ['(iLQR): t = 0, r = 2, c = 941.4541015625, alpha = 1.100000023841858',\n",
       "  '(iLQR): t = 1, r = 3, c = 935.1439208984375, alpha = 1.2100000381469727',\n",
       "  '(iLQR): t = 2, r = 4, c = 924.70703125, alpha = 1.3310000896453857',\n",
       "  '(iLQR): t = 3, r = 5, c = 881.9180297851562, alpha = 1.4641001224517822',\n",
       "  '(iLQR): t = 4, r = 9, c = 839.0318603515625, alpha = 0.683013379573822',\n",
       "  '(iLQR): t = 5, r = 10, c = 820.6473388671875, alpha = 0.7513146996498108',\n",
       "  '(iLQR): t = 6, r = 11, c = 811.3817749023438, alpha = 0.8264461755752563',\n",
       "  '(iLQR): t = 7, r = 14, c = 791.3921508789062, alpha = 0.62092125415802',\n",
       "  '(iLQR): t = 8, r = 15, c = 773.3284301757812, alpha = 0.683013379573822',\n",
       "  '(iLQR): t = 9, r = 16, c = 761.0863037109375, alpha = 0.7513146996498108'])"
      ]
     },
     "execution_count": 9,
     "metadata": {},
     "output_type": "execute_result"
    }
   ],
   "source": [
    "# ILQR\n",
    "ALPHA = 1.0\n",
    "env_true, env_sim = Reacher(-10.), Reacher()\n",
    "print('-------------- ilqr_sim ----------------')\n",
    "ilqr_sim = ILQR()\n",
    "ilqr_sim.train(env_sim, 5, alpha=ALPHA)\n",
    "print('----------- compute zero_cost -----------')\n",
    "env_ZEROCOST = Reacher(-10.)\n",
    "_,_,ZEROCOST = rollout(env_ZEROCOST, ilqr_sim.U, ilqr_sim.k, ilqr_sim.K, ilqr_sim.X)\n",
    "print('ZEROCOST:' + str(ZEROCOST))\n",
    "print('-------------- ilqr_true ----------------')\n",
    "agent = ILQR()\n",
    "agent.train(env_true, 10, ilqr_sim.U, alpha=ALPHA)"
   ]
  },
  {
   "cell_type": "code",
   "execution_count": 10,
   "metadata": {},
   "outputs": [
    {
     "name": "stdout",
     "output_type": "stream",
     "text": [
      "------------------------------------------\n",
      "FullArgSpec(args=['self', 'args', 'bufsize', 'executable', 'stdin', 'stdout', 'stderr', 'preexec_fn', 'close_fds', 'shell', 'cwd', 'env', 'universal_newlines', 'startupinfo', 'creationflags', 'restore_signals', 'start_new_session', 'pass_fds'], varargs=None, varkw=None, defaults=(-1, None, None, None, None, None, True, False, None, None, None, None, 0, True, False, ()), kwonlyargs=['encoding', 'errors', 'text'], kwonlydefaults={'encoding': None, 'errors': None, 'text': None}, annotations={})\n",
      "self.cwd:None\n",
      "self.env:None\n",
      "cmd:['Xvfb', '-help']\n",
      "3\n",
      "7\n",
      "------------------------------------------\n",
      "FullArgSpec(args=['self', 'args', 'bufsize', 'executable', 'stdin', 'stdout', 'stderr', 'preexec_fn', 'close_fds', 'shell', 'cwd', 'env', 'universal_newlines', 'startupinfo', 'creationflags', 'restore_signals', 'start_new_session', 'pass_fds'], varargs=None, varkw=None, defaults=(-1, None, None, None, None, None, True, False, None, None, None, None, 0, True, False, ()), kwonlyargs=['encoding', 'errors', 'text'], kwonlydefaults={'encoding': None, 'errors': None, 'text': None}, annotations={})\n",
      "self.cwd:None\n",
      "self.env:None\n",
      "cmd:['Xvfb', '-br', '-nolisten', 'tcp', '-screen', '0', '1400x900x24', ':1307']\n",
      "3\n",
      "7\n",
      "------------------------------------------\n",
      "FullArgSpec(args=['self', 'args', 'bufsize', 'executable', 'stdin', 'stdout', 'stderr', 'preexec_fn', 'close_fds', 'shell', 'cwd', 'env', 'universal_newlines', 'startupinfo', 'creationflags', 'restore_signals', 'start_new_session', 'pass_fds'], varargs=None, varkw=None, defaults=(-1, None, None, None, None, None, True, False, None, None, None, None, 0, True, False, ()), kwonlyargs=['encoding', 'errors', 'text'], kwonlydefaults={'encoding': None, 'errors': None, 'text': None}, annotations={})\n",
      "self.cwd:None\n",
      "self.env:None\n",
      "cmd:['xdpyinfo']\n",
      "3\n",
      "7\n"
     ]
    },
    {
     "data": {
      "text/plain": [
       "<Display cmd_param=['Xvfb', '-br', '-nolisten', 'tcp', '-screen', '0', '1400x900x24', ':1307'] cmd=['Xvfb', '-br', '-nolisten', 'tcp', '-screen', '0', '1400x900x24', ':1307'] oserror=None return_code=None stdout=\"None\" stderr=\"None\" timeout_happened=False>"
      ]
     },
     "execution_count": 10,
     "metadata": {},
     "output_type": "execute_result"
    }
   ],
   "source": [
    "# needed to connect to \"fake\" monitor (not actually used)\n",
    "display_dummy = Display(visible=False, size=(1400, 900))\n",
    "display_dummy.start()"
   ]
  },
  {
   "cell_type": "code",
   "execution_count": 15,
   "metadata": {},
   "outputs": [
    {
     "data": {
      "image/png": "[encoded data removed]",
      "text/plain": [
       "<Figure size 432x288 with 1 Axes>"
      ]
     },
     "metadata": {},
     "output_type": "display_data"
    },
    {
     "name": "stdout",
     "output_type": "stream",
     "text": [
      "reward_forloop = 1523.2848\n"
     ]
    },
    {
     "data": {
      "image/png": "[encoded data removed]",
      "text/plain": [
       "<Figure size 432x288 with 1 Axes>"
      ]
     },
     "metadata": {
      "needs_background": "light"
     },
     "output_type": "display_data"
    }
   ],
   "source": [
    "# for loop version\n",
    "T = 350\n",
    "env = Reacher(-10.)\n",
    "print(env.reset())\n",
    "reward = 0\n",
    "for i in range(T):\n",
    "    (env, agent), r = loop((env, agent), i)\n",
    "    reward += r\n",
    "# env.reset()\n",
    "# env.display()\n",
    "reward_forloop = reward\n",
    "print('reward_forloop = ' + str(reward_forloop))"
   ]
  },
  {
   "cell_type": "code",
   "execution_count": null,
   "metadata": {},
   "outputs": [],
   "source": []
  }
 ],
 "metadata": {
  "kernelspec": {
   "display_name": "renderEnv",
   "language": "python",
   "name": "renderenv"
  },
  "language_info": {
   "codemirror_mode": {
    "name": "ipython",
    "version": 3
   },
   "file_extension": ".py",
   "mimetype": "text/x-python",
   "name": "python",
   "nbconvert_exporter": "python",
   "pygments_lexer": "ipython3",
   "version": "3.7.3"
  }
 },
 "nbformat": 4,
 "nbformat_minor": 4
}
