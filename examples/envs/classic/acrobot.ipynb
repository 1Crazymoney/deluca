{
 "cells": [
  {
   "cell_type": "code",
   "execution_count": 58,
   "metadata": {},
   "outputs": [
    {
     "name": "stdout",
     "output_type": "stream",
     "text": [
      "The autoreload extension is already loaded. To reload it, use:\n",
      "  %reload_ext autoreload\n"
     ]
    }
   ],
   "source": [
    "%load_ext autoreload\n",
    "%autoreload 2"
   ]
  },
  {
   "cell_type": "code",
   "execution_count": 146,
   "metadata": {},
   "outputs": [],
   "source": [
    "import jax.numpy as jnp\n",
    "import numpy as np\n",
    "import matplotlib.pyplot as plt\n",
    "import jax\n",
    "from jax import lax\n",
    "from deluca.envs import Acrobot\n",
    "from deluca.agents import ILQR\n"
   ]
  },
  {
   "cell_type": "code",
   "execution_count": 147,
   "metadata": {},
   "outputs": [
    {
     "name": "stdout",
     "output_type": "stream",
     "text": [
      "iLQR : t = 2, c = 0.008625\n",
      "iLQR : t = 3, c = 0.008625\n",
      "iLQR : t = 4, c = 0.008625\n",
      "iLQR : t = 5, c = 0.008625\n",
      "iLQR : t = 6, c = 0.008625\n",
      "iLQR : t = 7, c = 0.008625\n",
      "iLQR : t = 8, c = 0.008625\n",
      "iLQR : t = 9, c = 0.008625\n",
      "iLQR : t = 10, c = 0.008625\n"
     ]
    }
   ],
   "source": [
    "agent = ILQR()\n",
    "agent.train(Acrobot(horizon=10), 10)"
   ]
  },
  {
   "cell_type": "code",
   "execution_count": 148,
   "metadata": {
    "pycharm": {
     "name": "#%%\n"
    }
   },
   "outputs": [],
   "source": [
    "def loop(context, x):\n",
    "    env, agent = context\n",
    "    control = agent(env.state)\n",
    "    _, reward, _, _ = env.step(control)\n",
    "    return (env, agent), reward"
   ]
  },
  {
   "cell_type": "code",
   "execution_count": 149,
   "metadata": {},
   "outputs": [
    {
     "name": "stdout",
     "output_type": "stream",
     "text": [
      "[-0.08660281 -0.00455228  0.00775968 -0.01845726]\n",
      "agent.t = 0\n",
      "[[ 0.00829666]\n",
      " [ 0.0103582 ]\n",
      " [ 0.00891292]\n",
      " [ 0.00522574]\n",
      " [ 0.00112483]\n",
      " [-0.00178463]\n",
      " [-0.00272972]\n",
      " [-0.00199128]\n",
      " [-0.00065128]\n",
      " [ 0.        ]]\n",
      "reward_forloop = 0.021269226351404824\n"
     ]
    }
   ],
   "source": [
    " # for loop version\n",
    "T = 10\n",
    "env = Acrobot(horizon=10)\n",
    "print(env.reset())\n",
    "print('agent.t = ' + str(agent.t))\n",
    "reward = 0\n",
    "plan = agent.U\n",
    "print(plan)\n",
    "for i in range(T):\n",
    "    (env, agent), r = loop((env, agent), 0)\n",
    "    reward += r\n",
    "reward_forloop = reward\n",
    "print('reward_forloop = ' + str(reward_forloop))"
   ]
  },
  {
   "cell_type": "code",
   "execution_count": 151,
   "metadata": {},
   "outputs": [
    {
     "name": "stdout",
     "output_type": "stream",
     "text": [
      "[-0.08660281 -0.00455228  0.00775968 -0.01845726]\n",
      "agent.t = 0\n",
      "reward_scan sum = 0.021269226351404935\n"
     ]
    }
   ],
   "source": [
    "# scan version\n",
    "T = 10\n",
    "env = Acrobot(horizon=10)\n",
    "print(env.reset())\n",
    "agent.reset()\n",
    "print('agent.t = ' + str(agent.t))\n",
    "xs = jnp.array(jnp.arange(T))\n",
    "_,reward_scan = lax.scan(loop, (env, agent), xs)\n",
    "# correctness test\n",
    "print('reward_scan sum = ' + str(jnp.sum(reward_scan)))"
   ]
  }
 ],
 "metadata": {
  "kernelspec": {
   "display_name": "Python 3",
   "language": "python",
   "name": "python3"
  },
  "language_info": {
   "codemirror_mode": {
    "name": "ipython",
    "version": 3
   },
   "file_extension": ".py",
   "mimetype": "text/x-python",
   "name": "python",
   "nbconvert_exporter": "python",
   "pygments_lexer": "ipython3",
   "version": "3.8.0"
  }
 },
 "nbformat": 4,
 "nbformat_minor": 1
}
