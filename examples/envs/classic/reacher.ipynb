{
 "cells": [
  {
   "cell_type": "code",
   "execution_count": 1,
   "metadata": {},
   "outputs": [],
   "source": [
    "%load_ext autoreload\n",
    "%autoreload 2"
   ]
  },
  {
   "cell_type": "code",
   "execution_count": 2,
   "metadata": {},
   "outputs": [
    {
     "name": "stderr",
     "output_type": "stream",
     "text": [
      "/home/alexjyu/miniconda3/envs/ealstm/lib/python3.7/site-packages/jax/lib/xla_bridge.py:123: UserWarning: No GPU/TPU found, falling back to CPU.\n",
      "  warnings.warn('No GPU/TPU found, falling back to CPU.')\n",
      "/home/alexjyu/miniconda3/envs/ealstm/lib/python3.7/site-packages/gym/logger.py:30: UserWarning: \u001b[33mWARN: Box bound precision lowered by casting to float32\u001b[0m\n",
      "  warnings.warn(colorize('%s: %s'%('WARN', msg % args), 'yellow'))\n"
     ]
    }
   ],
   "source": [
    "from deluca.envs import Reacher\n",
    "from deluca.agents import ILQR\n",
    "from deluca.agents import ILC\n",
    "from deluca.agents import IGPC\n",
    "from deluca.agents._ilqr import rollout\n",
    "import numpy as np"
   ]
  },
  {
   "cell_type": "code",
   "execution_count": 3,
   "metadata": {},
   "outputs": [],
   "source": [
    "global_log = []\n",
    "ALPHA = 1.0\n",
    "LR = 0.01"
   ]
  },
  {
   "cell_type": "code",
   "execution_count": 5,
   "metadata": {},
   "outputs": [
    {
     "name": "stdout",
     "output_type": "stream",
     "text": [
      "-------------- ilqr_sim ----------------\n",
      "initial cost:29.766178\n",
      "(iLQR): t = 0, r = 2, c = 11.271796226501465, alpha = 1.100000023841858\n",
      "(iLQR): t = 1, r = 3, c = 11.118474960327148, alpha = 1.2100000381469727\n",
      "(iLQR): t = 2, r = 4, c = 11.112727165222168, alpha = 1.3310000896453857\n",
      "(iLQR): t = 3, r = 6, c = 11.112680435180664, alpha = 1.3310000896453857\n",
      "(iLQR): t = 4, r = 7, c = 11.112521171569824, alpha = 1.4641001224517822\n",
      "----------- compute zero_cost -----------\n",
      "ZEROCOST:2413.7056\n",
      "-------------- ilqr_true ----------------\n",
      "initial cost:1055.0634\n",
      "(iLQR): t = 0, r = 2, c = 941.4541015625, alpha = 1.100000023841858\n",
      "(iLQR): t = 1, r = 3, c = 935.1439208984375, alpha = 1.2100000381469727\n",
      "(iLQR): t = 2, r = 4, c = 924.70703125, alpha = 1.3310000896453857\n",
      "(iLQR): t = 3, r = 5, c = 881.9180297851562, alpha = 1.4641001224517822\n",
      "(iLQR): t = 4, r = 9, c = 839.0318603515625, alpha = 0.683013379573822\n",
      "(iLQR): t = 5, r = 10, c = 820.6473388671875, alpha = 0.7513146996498108\n",
      "(iLQR): t = 6, r = 11, c = 811.3817749023438, alpha = 0.8264461755752563\n",
      "(iLQR): t = 7, r = 14, c = 791.3921508789062, alpha = 0.62092125415802\n",
      "(iLQR): t = 8, r = 15, c = 773.3284301757812, alpha = 0.683013379573822\n",
      "(iLQR): t = 9, r = 16, c = 761.0863037109375, alpha = 0.7513146996498108\n"
     ]
    }
   ],
   "source": [
    "env_true, env_sim = Reacher(-10.), Reacher()\n",
    "print('-------------- ilqr_sim ----------------')\n",
    "ilqr_sim = ILQR()\n",
    "ilqr_sim.train(env_sim, 5, alpha=ALPHA)\n",
    "print('----------- compute zero_cost -----------')\n",
    "env_ZEROCOST = Reacher(-10.)\n",
    "_,_,ZEROCOST = rollout(env_ZEROCOST, ilqr_sim.U, ilqr_sim.k, ilqr_sim.K, ilqr_sim.X)\n",
    "print('ZEROCOST:' + str(ZEROCOST))\n",
    "global_log += ['ZEROCOST: ' + str(ZEROCOST)]\n",
    "print('-------------- ilqr_true ----------------')\n",
    "ilqr_true = ILQR()\n",
    "c, log = ilqr_true.train(env_true, 10, ilqr_sim.U, alpha=ALPHA)\n",
    "global_log += log"
   ]
  },
  {
   "cell_type": "code",
   "execution_count": 145,
   "metadata": {},
   "outputs": [
    {
     "name": "stdout",
     "output_type": "stream",
     "text": [
      "Trying alpha 1.0\n",
      "initial cost:2413.70623260845\n",
      "(iLC): t = 0, r = 2, c = 2191.6511204480767, alpha = 1.1\n",
      "(iLC): t = 1, r = 3, c = 1824.671659369263, alpha = 1.2100000000000002\n",
      "(iLC): t = 2, r = 4, c = 1619.4398374479622, alpha = 1.3310000000000004\n",
      "(iLC): t = 3, r = 7, c = 1340.7737375969202, alpha = 1.0000000000000002\n",
      "(iLC): t = 4, r = 10, c = 1319.1527306105083, alpha = 0.7513148009015778\n",
      "(iLC): t = 5, r = 11, c = 999.867282751434, alpha = 0.8264462809917356\n",
      "(iLC): t = 6, r = 12, c = 818.2600718883663, alpha = 0.9090909090909092\n",
      "(iLC): t = 7, r = 13, c = 798.2433442330674, alpha = 1.0000000000000002\n",
      "(iLC): t = 8, r = 14, c = 782.9633567040827, alpha = 1.1000000000000003\n",
      "(iLC): t = 9, r = 16, c = 782.8086837211823, alpha = 1.1000000000000003\n",
      "Better Min Changing alpha to 1.0\n"
     ]
    },
    {
     "data": {
      "text/plain": [
       "(None, None)"
      ]
     },
     "execution_count": 145,
     "metadata": {},
     "output_type": "execute_result"
    }
   ],
   "source": [
    "### Hyperparameter Search - ILC Alpha\n",
    "ilc = ILC()\n",
    "U = ilqr_sim.U\n",
    "c_min = 1000000000\n",
    "good_alpha = 1.0\n",
    "# for alpha in [0.1,0.2,0.5, 0.8, 1.0, 2.0, 5.0, 10.0]:\n",
    "for alpha in [ALPHA]:\n",
    "    print(f\"Trying alpha {alpha}\")\n",
    "    c, log = ilc.train(env_true, env_sim, 40, U, ilqr_sim.k, ilqr_sim.K, ilqr_sim.X, ref_alpha=alpha)\n",
    "    if alpha == ALPHA: # best alpha\n",
    "        global_log += log\n",
    "    if c < c_min:\n",
    "        c_min = c\n",
    "        good_alpha = alpha\n",
    "        print(f\"Better Min Changing alpha to {good_alpha}\")\n",
    "env_true.close(), env_sim.close()"
   ]
  },
  {
   "cell_type": "code",
   "execution_count": 146,
   "metadata": {},
   "outputs": [
    {
     "name": "stdout",
     "output_type": "stream",
     "text": [
      "Trying pair 1.0,0.01\n",
      "initial cost:2413.70623260845\n",
      "(iGPC): t = 0, r = 2, c = 2176.3359356742485, alpha = 1.1\n",
      "(iGPC): t = 1, r = 3, c = 1807.9058026603147, alpha = 1.2100000000000002\n",
      "(iGPC): t = 2, r = 4, c = 1634.2014258440536, alpha = 1.3310000000000004\n",
      "(iGPC): t = 3, r = 7, c = 1375.2480436160788, alpha = 1.0000000000000002\n",
      "(iGPC): t = 4, r = 10, c = 1305.6446123644546, alpha = 0.7513148009015778\n",
      "(iGPC): t = 5, r = 11, c = 986.3836548529083, alpha = 0.8264462809917356\n",
      "(iGPC): t = 6, r = 12, c = 821.4397017982159, alpha = 0.9090909090909092\n",
      "(iGPC): t = 7, r = 13, c = 793.9354347824788, alpha = 1.0000000000000002\n",
      "(iGPC): t = 8, r = 14, c = 785.1695359810136, alpha = 1.1000000000000003\n",
      "(iGPC): t = 9, r = 15, c = 780.1971874723374, alpha = 1.2100000000000004\n",
      "Better Min Changing alpha,lr to 1.0,0.01\n"
     ]
    }
   ],
   "source": [
    "### Hyperparameter Search - IGPC Alpha\n",
    "igpc = IGPC()\n",
    "U = ilqr_sim.U\n",
    "c_min = 1000000000\n",
    "good_alpha = 100000\n",
    "good_lr = 10000\n",
    "# for alpha in [0.5, 1.0]:\n",
    "#     for lr in [0.001, 0.005, 0.01, 0.05, 0.1]:\n",
    "for alpha in [ALPHA]:\n",
    "    for lr in [LR]:\n",
    "        print(f\"Trying pair {alpha},{lr}\")\n",
    "        c, log = igpc.train(env_true, env_sim, 10, U, ilqr_sim.k, ilqr_sim.K, ilqr_sim.X, lr=lr, ref_alpha=alpha)\n",
    "        # _,_,_,_,c = Eastman_closed(env_true, env_sim, U, 10, k, K, X, lr=lr, ref_alpha=alpha)\n",
    "        if alpha == ALPHA and lr == LR: # best alpha/lr\n",
    "            global_log += log\n",
    "        if c < c_min:\n",
    "            c_min = c\n",
    "            good_alpha = alpha\n",
    "            good_lr = lr\n",
    "            print(f\"Better Min Changing alpha,lr to {good_alpha},{lr}\")"
   ]
  },
  {
   "cell_type": "code",
   "execution_count": 142,
   "metadata": {},
   "outputs": [
    {
     "name": "stdout",
     "output_type": "stream",
     "text": [
      "{-10.0: {'(iLQR)': [[0, 2.0, 3.0, 4.0, 5.0, 6.0, 7.0, 11.0, 12.0, 13.0, 14.0], [2410.147279547979, 983.0906436909004, 938.5344542156969, 932.8873268569384, 925.0480323507606, 907.4524148835704, 837.8500853600798, 803.0318905257647, 784.5997752461521, 765.4000591371008, 754.8495975637347]], '(iLC)': [[0, 2.0, 3.0, 4.0, 5.0, 8.0, 9.0, 10.0, 11.0, 12.0, 16.0], [2410.147279547979, 1801.8805080969594, 1561.657556499191, 1382.917217094581, 1093.3233645343757, 993.1434786880517, 837.0108850110917, 803.6066405373315, 788.4636357077951, 783.1430610335348, 783.0918982693078]], '(iGPC)': [[0, 2.0, 3.0, 4.0, 5.0, 8.0, 9.0, 10.0, 11.0, 12.0], [2410.147279547979, 1799.8862479255968, 1551.5492099108567, 1377.967631442432, 1056.8558155255803, 968.7563930504405, 831.8942700748361, 802.0686393920271, 787.6470115005179, 783.2752362255071]]}}\n"
     ]
    },
    {
     "data": {
      "text/plain": [
       "<Figure size 432x288 with 0 Axes>"
      ]
     },
     "metadata": {},
     "output_type": "display_data"
    },
    {
     "data": {
      "image/png": "[encoded data removed]",
      "text/plain": [
       "<Figure size 432x288 with 1 Axes>"
      ]
     },
     "metadata": {
      "needs_background": "light"
     },
     "output_type": "display_data"
    }
   ],
   "source": [
    "# Plot alpha = 0.5 experiment\n",
    "\n",
    "import matplotlib.pyplot as plt\n",
    "from pprint import pprint\n",
    "import re\n",
    "import sys\n",
    "\n",
    "global_log_alpha_half = ''\n",
    "for s in global_log:\n",
    "    global_log_alpha_half += s + '\\n'\n",
    "print(global_log_alpha_half)\n",
    "\n",
    "def postprocess(a):\n",
    "    rs, vs = a\n",
    "    newrs, newvs = [], []\n",
    "    ref = 0\n",
    "    for (i, (r, v)) in enumerate(zip(rs, vs)):\n",
    "        r = int(r)\n",
    "        if i == len(rs) - 1:\n",
    "            newrs += [r]\n",
    "            newvs += [v]\n",
    "        else:\n",
    "            next_r = int(rs[i + 1])\n",
    "            newrs += list(range(r, next_r))\n",
    "            newvs += [v for _ in range(r, next_r)]\n",
    "    return newrs, newvs\n",
    "\n",
    "\n",
    "### This file is to plot the results of the first experiment on Quadrotor\n",
    "\n",
    "all_results = {}\n",
    "for param in [-10.0]:\n",
    "    # filename = f\"../results/reacher_results/param_{param}_alpha_0.5.txt\"\n",
    "    # txt = open(filename).read()\n",
    "    txt = global_log_alpha_half\n",
    "    pattern = f\"ZEROCOST: ([0-9.]*)\"\n",
    "    results = re.findall(pattern, txt)\n",
    "    zerocost = float(results[0])\n",
    "\n",
    "    pattern = f\"(.*): t = [0-9]*, r = ([0-9]*), c = ([0-9.]*)\"\n",
    "    results = list(zip(*re.findall(pattern, txt)))\n",
    "    if len(results) > 0:\n",
    "        results = results[0], list(map(float, results[1])), list(map(float, results[2]))\n",
    "    all_keys = list(set(results[0]))\n",
    "    \n",
    "    results_dict = {}\n",
    "    for k in all_keys:\n",
    "        indices = [i for i, x in enumerate(results[0]) if x == k]\n",
    "        results_dict[k] = [\n",
    "            [0] + [results[1][i] for i in indices],\n",
    "            [zerocost] + [results[2][i] for i in indices],\n",
    "        ]\n",
    "    all_results[param] = results_dict\n",
    "\n",
    "print(all_results)\n",
    "\n",
    "#print(postprocess(all_results[-10.0]['Eastman (closed+de+lr+0.01)']))\n",
    "plt.figure()\n",
    "fig, ax = plt.subplots(1, 1)\n",
    "x_dict = {-10.0: 15}\n",
    "for (i, w) in enumerate([-10.0]):\n",
    "    a = ax\n",
    "    px, py = list(range(0, 100)), [\n",
    "        all_results[w][\"(iLQR)\"][1][0] for _ in range(0, 100)\n",
    "    ]\n",
    "    a.plot(px, py, label=\"iLQR (closed)\", color=\"aqua\")\n",
    "    px, py = postprocess(all_results[w][\"(iLQR)\"])\n",
    "    a.plot(px, py, label=\"iLQR (oracle)\", color=\"black\")\n",
    "    px, py = postprocess(all_results[w][\"(iLC)\"])\n",
    "    a.plot(px, py, label=\"iLC\", color=\"green\")\n",
    "    px, py = postprocess(all_results[w][\"(iGPC)\"])\n",
    "    a.plot(px, py, label=\"iGPC\", color=\"red\")\n",
    "    # a.set_ylim(0, 5000)\n",
    "    a.set_xlim(0, x_dict[w])\n",
    "    a.set_xlabel(\"No. of Rollouts\")\n",
    "    a.set_ylabel(\"Cost\")\n",
    "    a.set_title(f\"Reacher with Param={w}, alpha=0.5\")\n",
    "    # #plt.yscale('log')\n",
    "    a.legend(loc=\"best\")\n",
    "plt.show()\n"
   ]
  },
  {
   "cell_type": "code",
   "execution_count": 147,
   "metadata": {},
   "outputs": [
    {
     "name": "stdout",
     "output_type": "stream",
     "text": [
      "ZEROCOST: 2413.70623260845\n",
      "(iLQR): t = 0, r = 2, c = 941.4542109231629, alpha = 1.1\n",
      "(iLQR): t = 1, r = 3, c = 935.1437689387272, alpha = 1.2100000000000002\n",
      "(iLQR): t = 2, r = 4, c = 924.7075508102951, alpha = 1.3310000000000004\n",
      "(iLQR): t = 3, r = 5, c = 881.9217489458857, alpha = 1.4641000000000006\n",
      "(iLQR): t = 4, r = 9, c = 839.0378681106843, alpha = 0.6830134553650705\n",
      "(iLQR): t = 5, r = 10, c = 820.6431560880089, alpha = 0.7513148009015777\n",
      "(iLQR): t = 6, r = 11, c = 811.5600705687381, alpha = 0.8264462809917354\n",
      "(iLQR): t = 7, r = 14, c = 791.9422730630035, alpha = 0.620921323059155\n",
      "(iLQR): t = 8, r = 15, c = 773.8183249585162, alpha = 0.6830134553650706\n",
      "(iLQR): t = 9, r = 16, c = 761.481994694511, alpha = 0.7513148009015778\n",
      "(iLC): t = 0, r = 2, c = 2191.6511204480767, alpha = 1.1\n",
      "(iLC): t = 1, r = 3, c = 1824.671659369263, alpha = 1.2100000000000002\n",
      "(iLC): t = 2, r = 4, c = 1619.4398374479622, alpha = 1.3310000000000004\n",
      "(iLC): t = 3, r = 7, c = 1340.7737375969202, alpha = 1.0000000000000002\n",
      "(iLC): t = 4, r = 10, c = 1319.1527306105083, alpha = 0.7513148009015778\n",
      "(iLC): t = 5, r = 11, c = 999.867282751434, alpha = 0.8264462809917356\n",
      "(iLC): t = 6, r = 12, c = 818.2600718883663, alpha = 0.9090909090909092\n",
      "(iLC): t = 7, r = 13, c = 798.2433442330674, alpha = 1.0000000000000002\n",
      "(iLC): t = 8, r = 14, c = 782.9633567040827, alpha = 1.1000000000000003\n",
      "(iLC): t = 9, r = 16, c = 782.8086837211823, alpha = 1.1000000000000003\n",
      "(iGPC): t = 0, r = 2, c = 2176.3359356742485\n",
      "(iGPC): t = 1, r = 3, c = 1807.9058026603147\n",
      "(iGPC): t = 2, r = 4, c = 1634.2014258440536\n",
      "(iGPC): t = 3, r = 7, c = 1375.2480436160788\n",
      "(iGPC): t = 4, r = 10, c = 1305.6446123644546\n",
      "(iGPC): t = 5, r = 11, c = 986.3836548529083\n",
      "(iGPC): t = 6, r = 12, c = 821.4397017982159\n",
      "(iGPC): t = 7, r = 13, c = 793.9354347824788\n",
      "(iGPC): t = 8, r = 14, c = 785.1695359810136\n",
      "(iGPC): t = 9, r = 15, c = 780.1971874723374\n",
      "\n",
      "{-10.0: {'(iLQR)': [[0, 2.0, 3.0, 4.0, 5.0, 6.0, 7.0, 11.0, 12.0, 13.0, 14.0], [2410.147279547979, 983.0906436909004, 938.5344542156969, 932.8873268569384, 925.0480323507606, 907.4524148835704, 837.8500853600798, 803.0318905257647, 784.5997752461521, 765.4000591371008, 754.8495975637347]], '(iLC)': [[0, 2.0, 3.0, 4.0, 5.0, 8.0, 9.0, 10.0, 11.0, 12.0, 16.0], [2410.147279547979, 1801.8805080969594, 1561.657556499191, 1382.917217094581, 1093.3233645343757, 993.1434786880517, 837.0108850110917, 803.6066405373315, 788.4636357077951, 783.1430610335348, 783.0918982693078]], '(iGPC)': [[0, 2.0, 3.0, 4.0, 5.0, 8.0, 9.0, 10.0, 11.0, 12.0], [2410.147279547979, 1799.8862479255968, 1551.5492099108567, 1377.967631442432, 1056.8558155255803, 968.7563930504405, 831.8942700748361, 802.0686393920271, 787.6470115005179, 783.2752362255071]]}}\n"
     ]
    },
    {
     "data": {
      "text/plain": [
       "<Figure size 432x288 with 0 Axes>"
      ]
     },
     "metadata": {},
     "output_type": "display_data"
    },
    {
     "data": {
      "image/png": "[encoded data removed]",
      "text/plain": [
       "<Figure size 432x288 with 1 Axes>"
      ]
     },
     "metadata": {
      "needs_background": "light"
     },
     "output_type": "display_data"
    }
   ],
   "source": [
    "# plot alpha = 1.0 experiment\n",
    "\n",
    "import matplotlib.pyplot as plt\n",
    "from pprint import pprint\n",
    "import re\n",
    "import sys\n",
    "\n",
    "global_log_alpha_one = ''\n",
    "for s in global_log:\n",
    "    global_log_alpha_one += s + '\\n'\n",
    "print(global_log_alpha_one)\n",
    "\n",
    "def postprocess(a):\n",
    "    rs, vs = a\n",
    "    newrs, newvs = [], []\n",
    "    ref = 0\n",
    "    for (i, (r, v)) in enumerate(zip(rs, vs)):\n",
    "        r = int(r)\n",
    "        if i == len(rs) - 1:\n",
    "            newrs += [r]\n",
    "            newvs += [v]\n",
    "        else:\n",
    "            next_r = int(rs[i + 1])\n",
    "            newrs += list(range(r, next_r))\n",
    "            newvs += [v for _ in range(r, next_r)]\n",
    "    return newrs, newvs\n",
    "\n",
    "\n",
    "### This file is to plot the results of the first experiment on Quadrotor\n",
    "\n",
    "all_results = {}\n",
    "for param in [-10.0]:\n",
    "    # filename = f\"../results/reacher_results/param_{param}_alpha_0.5.txt\"\n",
    "    # txt = open(filename).read()\n",
    "    txt = global_log_alpha_half\n",
    "    pattern = f\"ZEROCOST: ([0-9.]*)\"\n",
    "    results = re.findall(pattern, txt)\n",
    "    zerocost = float(results[0])\n",
    "\n",
    "    pattern = f\"(.*): t = [0-9]*, r = ([0-9]*), c = ([0-9.]*)\"\n",
    "    results = list(zip(*re.findall(pattern, txt)))\n",
    "    if len(results) > 0:\n",
    "        results = results[0], list(map(float, results[1])), list(map(float, results[2]))\n",
    "    all_keys = list(set(results[0]))\n",
    "    \n",
    "    results_dict = {}\n",
    "    for k in all_keys:\n",
    "        indices = [i for i, x in enumerate(results[0]) if x == k]\n",
    "        results_dict[k] = [\n",
    "            [0] + [results[1][i] for i in indices],\n",
    "            [zerocost] + [results[2][i] for i in indices],\n",
    "        ]\n",
    "    all_results[param] = results_dict\n",
    "\n",
    "print(all_results)\n",
    "\n",
    "#print(postprocess(all_results[-10.0]['Eastman (closed+de+lr+0.01)']))\n",
    "plt.figure()\n",
    "fig, ax = plt.subplots(1, 1)\n",
    "x_dict = {-10.0: 15}\n",
    "for (i, w) in enumerate([-10.0]):\n",
    "    a = ax\n",
    "    px, py = list(range(0, 100)), [\n",
    "        all_results[w][\"(iLQR)\"][1][0] for _ in range(0, 100)\n",
    "    ]\n",
    "    a.plot(px, py, label=\"iLQR (closed)\", color=\"aqua\")\n",
    "    px, py = postprocess(all_results[w][\"(iLQR)\"])\n",
    "    a.plot(px, py, label=\"iLQR (oracle)\", color=\"black\")\n",
    "    px, py = postprocess(all_results[w][\"(iLC)\"])\n",
    "    a.plot(px, py, label=\"iLC\", color=\"green\")\n",
    "    px, py = postprocess(all_results[w][\"(iGPC)\"])\n",
    "    a.plot(px, py, label=\"iGPC\", color=\"red\")\n",
    "    # a.set_ylim(0, 5000)\n",
    "    a.set_xlim(0, x_dict[w])\n",
    "    a.set_xlabel(\"No. of Rollouts\")\n",
    "    a.set_ylabel(\"Cost\")\n",
    "    a.set_title(f\"Reacher with Param={w},alpha=1.0\")\n",
    "    # #plt.yscale('log')\n",
    "    a.legend(loc=\"best\")\n",
    "plt.show()\n"
   ]
  },
  {
   "cell_type": "code",
   "execution_count": null,
   "metadata": {},
   "outputs": [],
   "source": [
    "# Best Choices for ILC/IGPC in wilhelm for reference\n",
    "'''\n",
    "Trying alpha 0.5\n",
    "initial cost 2405.73046875\n",
    "iLC (closed+alpha=0.5): t = 0, r = 2, c = 1792.3660888671875, alpha = 0.550000011920929\n",
    "iLC (closed+alpha=0.5): t = 1, r = 3, c = 1553.2510986328125, alpha = 0.6050000190734863\n",
    "iLC (closed+alpha=0.5): t = 2, r = 4, c = 1380.19482421875, alpha = 0.6655000448226929\n",
    "iLC (closed+alpha=0.5): t = 3, r = 5, c = 1076.9576416015625, alpha = 0.7320500612258911\n",
    "iLC (closed+alpha=0.5): t = 4, r = 8, c = 981.8692626953125, alpha = 0.550000011920929\n",
    "iLC (closed+alpha=0.5): t = 5, r = 9, c = 834.8849487304688, alpha = 0.6050000190734863\n",
    "iLC (closed+alpha=0.5): t = 6, r = 10, c = 802.7842407226562, alpha = 0.6655000448226929\n",
    "iLC (closed+alpha=0.5): t = 7, r = 11, c = 787.9957885742188, alpha = 0.7320500612258911\n",
    "iLC (closed+alpha=0.5): t = 8, r = 12, c = 783.0912475585938, alpha = 0.8052550554275513\n",
    "iLC (closed+alpha=0.5): t = 9, r = 16, c = 783.0751953125, alpha = 0.3756573498249054\n",
    "'''\n",
    "'''\n",
    "Trying pair 0.5,0.01\n",
    "initial cost 2405.73046875\n",
    "Eastman (closed+de+lr+0.01): t = 0, r = 2, c = 1734.281982421875, alpha = 0.550000011920929\n",
    "Eastman (closed+de+lr+0.01): t = 1, r = 3, c = 1391.4644775390625, alpha = 0.6050000190734863\n",
    "Eastman (closed+de+lr+0.01): t = 2, r = 6, c = 1212.8800048828125, alpha = 0.4545454680919647\n",
    "Eastman (closed+de+lr+0.01): t = 3, r = 7, c = 967.5982666015625, alpha = 0.5\n",
    "Eastman (closed+de+lr+0.01): t = 4, r = 8, c = 862.6428833007812, alpha = 0.550000011920929\n",
    "Eastman (closed+de+lr+0.01): t = 5, r = 9, c = 822.8616943359375, alpha = 0.6050000190734863\n",
    "Eastman (closed+de+lr+0.01): t = 6, r = 10, c = 803.0556640625, alpha = 0.6655000448226929\n",
    "Eastman (closed+de+lr+0.01): t = 7, r = 11, c = 794.2657470703125, alpha = 0.7320500612258911\n",
    "Eastman (closed+de+lr+0.01): t = 8, r = 12, c = 791.7740478515625, alpha = 0.8052550554275513\n",
    "'''\n",
    "'''\n",
    "Trying alpha 1.0\n",
    "initial cost 2405.73046875\n",
    "iLC (closed+alpha=1.0): t = 0, r = 2, c = 2162.005126953125, alpha = 1.100000023841858\n",
    "iLC (closed+alpha=1.0): t = 1, r = 3, c = 1832.57080078125, alpha = 1.2100000381469727\n",
    "iLC (closed+alpha=1.0): t = 2, r = 4, c = 1632.4400634765625, alpha = 1.3310000896453857\n",
    "iLC (closed+alpha=1.0): t = 3, r = 7, c = 1385.662841796875, alpha = 1.0000001192092896\n",
    "iLC (closed+alpha=1.0): t = 4, r = 10, c = 1301.089599609375, alpha = 0.7513148784637451\n",
    "iLC (closed+alpha=1.0): t = 5, r = 11, c = 957.1361694335938, alpha = 0.8264463543891907\n",
    "iLC (closed+alpha=1.0): t = 6, r = 12, c = 850.0101318359375, alpha = 0.9090909957885742\n",
    "iLC (closed+alpha=1.0): t = 7, r = 13, c = 778.43603515625, alpha = 1.0000001192092896\n",
    "iLC (closed+alpha=1.0): t = 8, r = 19, c = 778.3656005859375, alpha = 0.10152555257081985\n",
    "'''\n",
    "'''\n",
    "Trying pair 1.0,0.01\n",
    "initial cost 2405.73046875\n",
    "Eastman (closed+de+lr+0.01): t = 0, r = 2, c = 2021.6158447265625, alpha = 1.100000023841858\n",
    "Eastman (closed+de+lr+0.01): t = 1, r = 3, c = 1625.6275634765625, alpha = 1.2100000381469727\n",
    "Eastman (closed+de+lr+0.01): t = 2, r = 4, c = 1478.7269287109375, alpha = 1.3310000896453857\n",
    "Eastman (closed+de+lr+0.01): t = 3, r = 5, c = 1426.17626953125, alpha = 1.4641001224517822\n",
    "Eastman (closed+de+lr+0.01): t = 4, r = 9, c = 1207.699951171875, alpha = 0.683013379573822\n",
    "Eastman (closed+de+lr+0.01): t = 5, r = 10, c = 790.8485107421875, alpha = 0.7513146996498108\n",
    "Eastman (closed+de+lr+0.01): t = 6, r = 11, c = 779.9273071289062, alpha = 0.8264461755752563\n",
    "'''"
   ]
  },
  {
   "cell_type": "code",
   "execution_count": null,
   "metadata": {},
   "outputs": [],
   "source": []
  }
 ],
 "metadata": {
  "kernelspec": {
   "display_name": "Python 3",
   "language": "python",
   "name": "python3"
  },
  "language_info": {
   "codemirror_mode": {
    "name": "ipython",
    "version": 3
   },
   "file_extension": ".py",
   "mimetype": "text/x-python",
   "name": "python",
   "nbconvert_exporter": "python",
   "pygments_lexer": "ipython3",
   "version": "3.7.3"
  }
 },
 "nbformat": 4,
 "nbformat_minor": 4
}
